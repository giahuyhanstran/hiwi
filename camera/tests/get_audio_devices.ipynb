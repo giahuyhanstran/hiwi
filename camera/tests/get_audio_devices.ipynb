{
 "cells": [
  {
   "cell_type": "code",
   "execution_count": 1,
   "metadata": {},
   "outputs": [],
   "source": [
    "import pyaudio"
   ]
  },
  {
   "cell_type": "code",
   "execution_count": 2,
   "metadata": {},
   "outputs": [
    {
     "name": "stdout",
     "output_type": "stream",
     "text": [
      "Device 0: Microsoft Soundmapper - Input\n",
      "Device 1: Mikrofon (G533 Gaming Headset)\n",
      "Device 2: Microphone (USB Audio)\n",
      "Device 3: Microphone Array (IntelÂ® Smart \n",
      "Device 4: Microsoft Soundmapper - Output\n",
      "Device 5: Speakers (Realtek(R) Audio)\n",
      "Device 6: SMB2330H (HD Audio Driver for D\n",
      "Device 7: Lautsprecher (G533 Gaming Heads\n",
      "Device 8: PrimÃ¤rer Soundaufnahmetreiber\n",
      "Device 9: Mikrofon (G533 Gaming Headset)\n",
      "Device 10: Microphone (USB Audio)\n",
      "Device 11: Microphone Array (IntelÂ® Smart Sound Technologie fÃ¼r digitale Mikrofone)\n",
      "Device 12: PrimÃ¤rer Soundtreiber\n",
      "Device 13: Speakers (Realtek(R) Audio)\n",
      "Device 14: SMB2330H (HD Audio Driver for Display Audio)\n",
      "Device 15: Lautsprecher (G533 Gaming Headset)\n",
      "Device 16: Speakers (Realtek(R) Audio)\n",
      "Device 17: SMB2330H (HD Audio Driver for Display Audio)\n",
      "Device 18: Lautsprecher (G533 Gaming Headset)\n",
      "Device 19: Mikrofon (G533 Gaming Headset)\n",
      "Device 20: Microphone (USB Audio)\n",
      "Device 21: Microphone Array (IntelÂ® Smart Sound Technologie fÃ¼r digitale Mikrofone)\n",
      "Device 22: Speakers (Realtek HD Audio output)\n",
      "Device 23: Mikrofon 1 (Realtek HD Audio Mic input with SST)\n",
      "Device 24: Mikrofon 2 (Realtek HD Audio Mic input with SST)\n",
      "Device 25: Mikrofon 3 (Realtek HD Audio Mic input with SST)\n",
      "Device 26: Headphones (Realtek HD Audio 2nd output)\n",
      "Device 27: Stereomix (Realtek HD Audio Stereo input)\n",
      "Device 28: Mikrofonarray 1 (IntelÂ® Smart Sound Technologie DMIC-Mikrofon)\n",
      "Device 29: Mikrofonarray 2 (IntelÂ® Smart Sound Technologie DMIC-Mikrofon)\n",
      "Device 30: Mikrofonarray 3 (IntelÂ® Smart Sound Technologie DMIC-Mikrofon)\n",
      "Device 31: Mikrofon 1 (G533 Gaming Headset)\n",
      "Device 32: Mikrofon 2 (G533 Gaming Headset)\n",
      "Device 33: Mikrofon 3 (G533 Gaming Headset)\n",
      "Device 34: Output 1 (G533 Gaming Headset)\n",
      "Device 35: Output 2 (G533 Gaming Headset)\n",
      "Device 36: Input (G533 Gaming Headset)\n",
      "Device 37: SMB2330H (ACX HD Audio Speaker)\n",
      "Device 38: Mikrofon (USB Audio)\n"
     ]
    }
   ],
   "source": [
    "def list_audio_devices():\n",
    "    p = pyaudio.PyAudio()\n",
    "    for i in range(p.get_device_count()):\n",
    "        info = p.get_device_info_by_index(i)\n",
    "        print(f\"Device {i}: {info['name']}\")\n",
    "\n",
    "list_audio_devices()"
   ]
  }
 ],
 "metadata": {
  "kernelspec": {
   "display_name": "Python 3",
   "language": "python",
   "name": "python3"
  },
  "language_info": {
   "codemirror_mode": {
    "name": "ipython",
    "version": 3
   },
   "file_extension": ".py",
   "mimetype": "text/x-python",
   "name": "python",
   "nbconvert_exporter": "python",
   "pygments_lexer": "ipython3",
   "version": "3.11.1"
  },
  "orig_nbformat": 4
 },
 "nbformat": 4,
 "nbformat_minor": 2
}
